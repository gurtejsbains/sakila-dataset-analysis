{
 "cells": [
  {
   "cell_type": "markdown",
   "id": "42f09963-fc3f-4d1c-a9c3-1e0f7e5d5e17",
   "metadata": {},
   "source": [
    "<h1 style=\"color:green; font-size:30px; font-weight:700; text-align:center\">\n",
    "    <u><b>Shakila Dataset Analysis</b></u>  \n",
    "</h1> \n",
    "\n",
    "<p></p> \n",
    "<strong> Author:</strong> Gurtej Bains <br> \n",
    "<strong> Data Source:</strong>   <br> \n",
    "<strong> Last Updated: </strong>  <br>  \n",
    "<strong> Problem Statement:</strong> <br>"
   ]
  },
  {
   "cell_type": "markdown",
   "id": "9fb46c50-d257-49ff-8873-b9e2d5e52d36",
   "metadata": {},
   "source": [
    "<div>\n",
    "<img src=\"C:\\Users\\gurte\\OneDrive\\All About Learning\\Coding Dojo\\Learning Material\\02 Weekly Assignments\\wk14 02-21 (Enrichment, wk1, SQL)\\Shakila dataset analysis\\shakila-dataset-analysis\\sakila-db-model.png\" \\\n",
    "     alt=\"Drawing\" \n",
    "     style=\"width: 1000px;\"/>\n",
    "</div> "
   ]
  },
  {
   "cell_type": "markdown",
   "id": "1f366912-01f9-4ef7-9037-6dee9d4b571d",
   "metadata": {},
   "source": [
    "<h1 style=\"color:green\"><b>Importing Modules</b> </h1>"
   ]
  },
  {
   "cell_type": "markdown",
   "id": "9e9e331c-cd11-44e2-9604-feb764bb234f",
   "metadata": {},
   "source": [
    "## Import libraries"
   ]
  },
  {
   "cell_type": "code",
   "execution_count": 2,
   "id": "a36adbba-4c8d-4149-ad09-9d78a126ad4e",
   "metadata": {},
   "outputs": [],
   "source": [
    "# import libraries  \n",
    "\n",
    "# Numpy\n",
    "import numpy as np\n",
    "\n",
    "# Pandas\n",
    "import pandas as pd\n",
    "\n",
    "# MatPlotLib\n",
    "import matplotlib.pyplot as plt\n",
    "\n",
    "# Seaborn\n",
    "import seaborn as sns\n",
    "\n",
    "# MissingNo\n",
    "import missingno as msno\n",
    "\n",
    "# SQL related \n",
    "import pymysql\n",
    "pymysql.install_as_MySQLdb()\n",
    "from sqlalchemy import create_engine\n",
    "\n",
    "from pandasql import sqldf\n",
    "pysqldf = lambda q: sqldf(q, globals())\n",
    "\n",
    "# suppress warnings\n",
    "import warnings\n",
    "warnings.filterwarnings(\"ignore\")\n",
    "\n",
    "# for directory \n",
    "import os"
   ]
  },
  {
   "cell_type": "markdown",
   "id": "ce73b004-7fb0-41bd-a10d-0e6f8e3c03d9",
   "metadata": {},
   "source": [
    "<h1 style=\"color:green\"><b>Connect to DB</b> </h1>"
   ]
  },
  {
   "cell_type": "code",
   "execution_count": null,
   "id": "d93b58a6-98ff-4710-b589-4d690312baa6",
   "metadata": {},
   "outputs": [],
   "source": [
    "shakila = pd.read_csv(r\"C:\\Users\\gurte\\OneDrive\\All About Learning\\Coding Dojo\\Learning Material\\05 Projects\\Project 3\\data downloads\\title.akas.tsv.gz\", sep='\\t', low_memory=False)\n",
    "shakila.shape"
   ]
  }
 ],
 "metadata": {
  "kernelspec": {
   "display_name": "Python (dojo-env)",
   "language": "python",
   "name": "dojo-env"
  },
  "language_info": {
   "codemirror_mode": {
    "name": "ipython",
    "version": 3
   },
   "file_extension": ".py",
   "mimetype": "text/x-python",
   "name": "python",
   "nbconvert_exporter": "python",
   "pygments_lexer": "ipython3",
   "version": "3.9.15"
  }
 },
 "nbformat": 4,
 "nbformat_minor": 5
}
